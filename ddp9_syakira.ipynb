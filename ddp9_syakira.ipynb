{
  "nbformat": 4,
  "nbformat_minor": 0,
  "metadata": {
    "colab": {
      "provenance": [],
      "authorship_tag": "ABX9TyN+5aJl9uVXyAtkyUFakYbo",
      "include_colab_link": true
    },
    "kernelspec": {
      "name": "python3",
      "display_name": "Python 3"
    },
    "language_info": {
      "name": "python"
    }
  },
  "cells": [
    {
      "cell_type": "markdown",
      "metadata": {
        "id": "view-in-github",
        "colab_type": "text"
      },
      "source": [
        "<a href=\"https://colab.research.google.com/github/SyakiraBila/DDP/blob/main/ddp9_syakira.ipynb\" target=\"_parent\"><img src=\"https://colab.research.google.com/assets/colab-badge.svg\" alt=\"Open In Colab\"/></a>"
      ]
    },
    {
      "cell_type": "code",
      "execution_count": 19,
      "metadata": {
        "colab": {
          "base_uri": "https://localhost:8080/"
        },
        "id": "EnGsWH-sNLM9",
        "outputId": "6ed903fe-4333-4b51-d1c1-075c0698d2b9"
      },
      "outputs": [
        {
          "output_type": "stream",
          "name": "stdout",
          "text": [
            "siswa yang lulus:  ['Reza', 'Dian']\n"
          ]
        }
      ],
      "source": [
        "#fungsi menampilkan nama2 siswa yang lulus\n",
        "hasil_akhir = [\n",
        "  {'nama':'Reza', 'nilai':70},\n",
        "  {'nama':'Ciut', 'nilai':63},\n",
        "  {'nama':'Dian', 'nilai':80},\n",
        "  {'nama':'Badu', 'nilai':40},\n",
        "]\n",
        "\n",
        "def predikatlulus(data):\n",
        "  lulus = [mahasiswa['nama']\n",
        "    for mahasiswa in data\n",
        "    if mahasiswa['nilai'] > 65]\n",
        "  return lulus\n",
        "\n",
        " # Memanggil fungsi lulus untuk memberikan predikat lulus\n",
        " # pada nama yang memiliki nilai lebih dari 65\n",
        "hasil = predikatlulus(hasil_akhir)\n",
        "print('siswa yang lulus: ',  hasil)"
      ]
    },
    {
      "cell_type": "code",
      "source": [
        "list_buah = ['pepaya', 'mangga', 'pisang', 'durian', 'jambu']\n",
        "\n",
        "def duplikasi(list_buah):\n",
        "    list_baru = []\n",
        "    for i in list_buah:\n",
        "        list_baru.append([i, i])\n",
        "    return list_baru\n",
        "\n",
        "hasil_duplikasi = duplikasi(list_buah)\n",
        "print(hasil_duplikasi)\n"
      ],
      "metadata": {
        "colab": {
          "base_uri": "https://localhost:8080/"
        },
        "id": "aHDoo4ZsQ2NW",
        "outputId": "ee9de613-b4a0-41d3-da09-d5f917abafa7"
      },
      "execution_count": 21,
      "outputs": [
        {
          "output_type": "stream",
          "name": "stdout",
          "text": [
            "[['pepaya', 'pepaya'], ['mangga', 'mangga'], ['pisang', 'pisang'], ['durian', 'durian'], ['jambu', 'jambu']]\n"
          ]
        }
      ]
    },
    {
      "cell_type": "code",
      "source": [
        "#fungsi membuat string\n",
        "def konsonan(kalimat):\n",
        "    huruf = \"\"\n",
        "    for i in kalimat:\n",
        "        if i not in 'aeiou':\n",
        "            huruf += i\n",
        "    return huruf\n",
        "\n",
        "hasil = konsonan('Nurul Fikri')\n",
        "print(\"Hasil dari konsonan kata Nurul Fikri adalah:\", hasil)\n"
      ],
      "metadata": {
        "colab": {
          "base_uri": "https://localhost:8080/"
        },
        "id": "5Of2pPWeT25U",
        "outputId": "668ba960-8832-48a2-d973-ab10dcbce1ec"
      },
      "execution_count": 25,
      "outputs": [
        {
          "output_type": "stream",
          "name": "stdout",
          "text": [
            "Hasil dari konsonan kata Nurul Fikri adalah: Nrl Fkr\n"
          ]
        }
      ]
    },
    {
      "cell_type": "code",
      "source": [
        "#Fungsi membuat list baru berisi urutan terbalik dari buah2an\n",
        "\n",
        "daftar_buah = ['pepaya', 'mangga', 'pisang', 'durian', 'jambu']\n",
        "def list_buah(buah):\n",
        "    list_terbalik = []\n",
        "    for i in range(len(buah) - 1, -1, -1):\n",
        "      list_terbalik.append(buah[i])\n",
        "    return list_terbalik\n",
        "\n",
        "# list_terbalik = list_buah (buah)\n",
        "list_terbalik = list_buah(buah)\n",
        "\n",
        "print(list_terbalik)\n"
      ],
      "metadata": {
        "colab": {
          "base_uri": "https://localhost:8080/"
        },
        "id": "SgY3eJfPXTLQ",
        "outputId": "9e3830ae-fdd4-4a86-a325-809a82d16191"
      },
      "execution_count": 29,
      "outputs": [
        {
          "output_type": "stream",
          "name": "stdout",
          "text": [
            "['jambu', 'durian', 'pisang', 'mangga', 'pepaya']\n"
          ]
        }
      ]
    }
  ]
}