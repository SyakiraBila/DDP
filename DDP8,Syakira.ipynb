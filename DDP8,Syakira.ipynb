{
  "nbformat": 4,
  "nbformat_minor": 0,
  "metadata": {
    "colab": {
      "provenance": [],
      "authorship_tag": "ABX9TyNaG+nQQQqddvTX6VaK+zsz",
      "include_colab_link": true
    },
    "kernelspec": {
      "name": "python3",
      "display_name": "Python 3"
    },
    "language_info": {
      "name": "python"
    }
  },
  "cells": [
    {
      "cell_type": "markdown",
      "metadata": {
        "id": "view-in-github",
        "colab_type": "text"
      },
      "source": [
        "<a href=\"https://colab.research.google.com/github/SyakiraBila/DDP/blob/main/DDP8%2CSyakira.ipynb\" target=\"_parent\"><img src=\"https://colab.research.google.com/assets/colab-badge.svg\" alt=\"Open In Colab\"/></a>"
      ]
    },
    {
      "cell_type": "code",
      "source": [
        "#Fungsi Menampilkan Data Diri\n",
        "\n",
        "def data_diri(Nama,Alamat,Gender,Umur,Hobby):\n",
        "  print('Nama saya adalah',Nama)\n",
        "  print('Alamat saya di',Alamat)\n",
        "  print('Gender saya',Gender)\n",
        "  print('Umur saya',Umur)\n",
        "  print('Hobby saya adalah',Hobby)\n",
        "data_diri('Syakira','Lenteng Agung','Perempuan','18 tahun','Memasak')"
      ],
      "metadata": {
        "colab": {
          "base_uri": "https://localhost:8080/"
        },
        "id": "2jxBvIdB3nGm",
        "outputId": "296a5370-dac5-44ff-96e3-788ae058f81b"
      },
      "execution_count": 25,
      "outputs": [
        {
          "output_type": "stream",
          "name": "stdout",
          "text": [
            "Nama saya adalah Syakira\n",
            "Alamat saya di Lenteng Agung\n",
            "Gender saya Perempuan\n",
            "Umur saya 18 tahun\n",
            "Hobby saya adalah Memasak\n"
          ]
        }
      ]
    },
    {
      "cell_type": "code",
      "source": [
        "#Fungsi Mencari kelulusan Nilai\n",
        "\n",
        "def kelulusan(nilai):\n",
        "   if nilai <= 60:\n",
        "       return \"Gagal\"\n",
        "   elif 61 <= nilai <= 70:\n",
        "       return \"Baik\"\n",
        "   elif 71 <= nilai <= 80:\n",
        "       return \"Sangat Baik\"\n",
        "   elif 81 <= nilai <= 100:\n",
        "       return \"Istimewa\"\n",
        "   else:\n",
        "       return \"Nilai tidak valid\"\n",
        "\n",
        "nilai = 60\n",
        "print(kelulusan(nilai))"
      ],
      "metadata": {
        "colab": {
          "base_uri": "https://localhost:8080/"
        },
        "id": "ZmZX7M6P8iR_",
        "outputId": "c3b7f297-7377-4d3c-8b65-c452617fcab0"
      },
      "execution_count": 58,
      "outputs": [
        {
          "output_type": "stream",
          "name": "stdout",
          "text": [
            "Gagal\n"
          ]
        }
      ]
    },
    {
      "cell_type": "code",
      "source": [
        "#Fungsi mencetak nilai Bilangan ganjil dari parameter\n",
        "\n",
        "def cetak_bilangan_ganjil(n):\n",
        "    for i in range(1, n+1, 2):\n",
        "        print(i)\n",
        "\n",
        "cetak_bilangan_ganjil(100)"
      ],
      "metadata": {
        "colab": {
          "base_uri": "https://localhost:8080/"
        },
        "id": "s92QhBAK-op7",
        "outputId": "3864b3bc-c248-4623-e60b-63ef3363bfff"
      },
      "execution_count": 38,
      "outputs": [
        {
          "output_type": "stream",
          "name": "stdout",
          "text": [
            "1\n",
            "3\n",
            "5\n",
            "7\n",
            "9\n",
            "11\n",
            "13\n",
            "15\n",
            "17\n",
            "19\n",
            "21\n",
            "23\n",
            "25\n",
            "27\n",
            "29\n",
            "31\n",
            "33\n",
            "35\n",
            "37\n",
            "39\n",
            "41\n",
            "43\n",
            "45\n",
            "47\n",
            "49\n",
            "51\n",
            "53\n",
            "55\n",
            "57\n",
            "59\n",
            "61\n",
            "63\n",
            "65\n",
            "67\n",
            "69\n",
            "71\n",
            "73\n",
            "75\n",
            "77\n",
            "79\n",
            "81\n",
            "83\n",
            "85\n",
            "87\n",
            "89\n",
            "91\n",
            "93\n",
            "95\n",
            "97\n",
            "99\n"
          ]
        }
      ]
    }
  ]
}